{
 "cells": [
  {
   "cell_type": "markdown",
   "id": "c0b1d385",
   "metadata": {},
   "source": [
    "# The Sparks Foundation: IoT and Computer Vision Internship\n",
    "\n",
    "# Name: Hesham Mohamed Abd El-Hamed Ali\n",
    "\n",
    "# Task: Color Identification in Images\n",
    "\n",
    "# Batch: #GRIPAPR22"
   ]
  },
  {
   "cell_type": "markdown",
   "id": "248aaba1",
   "metadata": {},
   "source": [
    "**------------------------------------------------------------------------------------------------------------------------------------------------------------------------------------------------------------------**"
   ]
  },
  {
   "cell_type": "markdown",
   "id": "740b08c9",
   "metadata": {},
   "source": [
    "### **Import some libraries**"
   ]
  },
  {
   "cell_type": "code",
   "execution_count": 10,
   "id": "dbe29f54-4250-42af-9587-35d0f468429a",
   "metadata": {},
   "outputs": [],
   "source": [
    "import cv2\n",
    "import pandas as pd\n",
    "import matplotlib.pyplot as plt"
   ]
  },
  {
   "cell_type": "markdown",
   "id": "61a10e30",
   "metadata": {},
   "source": [
    "### **Set CSV and Image Path**"
   ]
  },
  {
   "cell_type": "code",
   "execution_count": 11,
   "id": "8f348a44",
   "metadata": {},
   "outputs": [],
   "source": [
    "csv_path = r\"colors.csv\"\n",
    "img_path = r\"Images/Image_2.jpg\""
   ]
  },
  {
   "cell_type": "markdown",
   "id": "24acc275-a8ad-431e-869c-3227f537a5b3",
   "metadata": {},
   "source": [
    "### **Read the color CSV file**"
   ]
  },
  {
   "cell_type": "code",
   "execution_count": 12,
   "id": "02f3d0f3-74f3-4e2a-b1ff-02763f54108f",
   "metadata": {},
   "outputs": [
    {
     "data": {
      "text/html": [
       "<div>\n",
       "<style scoped>\n",
       "    .dataframe tbody tr th:only-of-type {\n",
       "        vertical-align: middle;\n",
       "    }\n",
       "\n",
       "    .dataframe tbody tr th {\n",
       "        vertical-align: top;\n",
       "    }\n",
       "\n",
       "    .dataframe thead th {\n",
       "        text-align: right;\n",
       "    }\n",
       "</style>\n",
       "<table border=\"1\" class=\"dataframe\">\n",
       "  <thead>\n",
       "    <tr style=\"text-align: right;\">\n",
       "      <th></th>\n",
       "      <th>Color</th>\n",
       "      <th>Name of color</th>\n",
       "      <th>Hexadecimal code</th>\n",
       "      <th>R</th>\n",
       "      <th>G</th>\n",
       "      <th>B</th>\n",
       "    </tr>\n",
       "  </thead>\n",
       "  <tbody>\n",
       "    <tr>\n",
       "      <th>0</th>\n",
       "      <td>air_force_blue_raf</td>\n",
       "      <td>Air Force Blue (Raf)</td>\n",
       "      <td>#5d8aa8</td>\n",
       "      <td>93</td>\n",
       "      <td>138</td>\n",
       "      <td>168</td>\n",
       "    </tr>\n",
       "    <tr>\n",
       "      <th>1</th>\n",
       "      <td>air_force_blue_usaf</td>\n",
       "      <td>Air Force Blue (Usaf)</td>\n",
       "      <td>#00308f</td>\n",
       "      <td>0</td>\n",
       "      <td>48</td>\n",
       "      <td>143</td>\n",
       "    </tr>\n",
       "    <tr>\n",
       "      <th>2</th>\n",
       "      <td>air_superiority_blue</td>\n",
       "      <td>Air Superiority Blue</td>\n",
       "      <td>#72a0c1</td>\n",
       "      <td>114</td>\n",
       "      <td>160</td>\n",
       "      <td>193</td>\n",
       "    </tr>\n",
       "    <tr>\n",
       "      <th>3</th>\n",
       "      <td>alabama_crimson</td>\n",
       "      <td>Alabama Crimson</td>\n",
       "      <td>#a32638</td>\n",
       "      <td>163</td>\n",
       "      <td>38</td>\n",
       "      <td>56</td>\n",
       "    </tr>\n",
       "    <tr>\n",
       "      <th>4</th>\n",
       "      <td>alice_blue</td>\n",
       "      <td>Alice Blue</td>\n",
       "      <td>#f0f8ff</td>\n",
       "      <td>240</td>\n",
       "      <td>248</td>\n",
       "      <td>255</td>\n",
       "    </tr>\n",
       "  </tbody>\n",
       "</table>\n",
       "</div>"
      ],
      "text/plain": [
       "                  Color          Name of color Hexadecimal code    R    G    B\n",
       "0    air_force_blue_raf   Air Force Blue (Raf)          #5d8aa8   93  138  168\n",
       "1   air_force_blue_usaf  Air Force Blue (Usaf)          #00308f    0   48  143\n",
       "2  air_superiority_blue   Air Superiority Blue          #72a0c1  114  160  193\n",
       "3       alabama_crimson        Alabama Crimson          #a32638  163   38   56\n",
       "4            alice_blue             Alice Blue          #f0f8ff  240  248  255"
      ]
     },
     "execution_count": 12,
     "metadata": {},
     "output_type": "execute_result"
    }
   ],
   "source": [
    "# read the csv file\n",
    "Columns_Names = [\"Color\", \"Name of color\", \"Hexadecimal code\", \"R\", \"G\", \"B\"]\n",
    "colorsDataSet = pd.read_csv(csv_path, names=Columns_Names, header=None)\n",
    "colorsDataSet.head()"
   ]
  },
  {
   "cell_type": "markdown",
   "id": "01b20e46",
   "metadata": {},
   "source": [
    "### **Read the Image**"
   ]
  },
  {
   "cell_type": "code",
   "execution_count": 13,
   "id": "8053cf3e",
   "metadata": {},
   "outputs": [],
   "source": [
    "# read the image\n",
    "img = cv2.imread(img_path)\n",
    "img = cv2.resize(img, (1080, 720))"
   ]
  },
  {
   "cell_type": "markdown",
   "id": "ee8a153c-be9b-4935-9965-f8f3ce93c1fe",
   "metadata": {},
   "source": [
    "### **Global variables declaration**"
   ]
  },
  {
   "cell_type": "code",
   "execution_count": 14,
   "id": "de6fc4a1-af4e-4976-908e-9f2b8c2c6d77",
   "metadata": {},
   "outputs": [],
   "source": [
    "# Declare global variables\n",
    "clicked_flag = False  # Clicked Value\n",
    "r = g = b = x_coordinate = y_coordinate = 0"
   ]
  },
  {
   "cell_type": "markdown",
   "id": "c9b7f200-8af1-4e07-b19c-f108c5721332",
   "metadata": {},
   "source": [
    "### **Function to  calculate minimum distance from all colors and get the most matching color**"
   ]
  },
  {
   "cell_type": "code",
   "execution_count": 15,
   "id": "196de3c5-f72d-411b-8d50-e34cb672855c",
   "metadata": {},
   "outputs": [],
   "source": [
    "# The function to calculate the min distance from all colors & get the most matching color\n",
    "def get_color_name(R, G, B):\n",
    "    minimum_distance= 10000\n",
    "    \n",
    "    for i in range(len(colorsDataSet)):\n",
    "        distance = abs(R - int(colorsDataSet.loc[i, \"R\"])) + abs(G - int(colorsDataSet.loc[i, \"G\"])) + abs(B - int(colorsDataSet.loc[i, \"B\"]))\n",
    "        \n",
    "        if distance <= minimum_distance:\n",
    "            minimum_distance = distance\n",
    "            color_name = colorsDataSet.loc[i, \"Name of color\"]\n",
    "    return color_name"
   ]
  },
  {
   "cell_type": "markdown",
   "id": "14b8dabc-4729-48df-ae4b-88831daee7e2",
   "metadata": {},
   "source": [
    "### **Get the X, Y coordinates of  an Image When the mouse is double-clicked**"
   ]
  },
  {
   "cell_type": "code",
   "execution_count": 16,
   "id": "90c91b10-fa66-4c3e-be1d-045702891998",
   "metadata": {},
   "outputs": [],
   "source": [
    "# The function to get x , y coordinates of mouse double click\n",
    "def getClickedParams(event, x_coordinate, y_coordinate, flags, parameters):\n",
    "    if event == cv2.EVENT_LBUTTONDBLCLK:\n",
    "        global b, g, r, x_position, y_position, clicked_flag\n",
    "        \n",
    "        clicked_flag = True\n",
    "        x_position = x_coordinate\n",
    "        y_position = y_coordinate\n",
    "        \n",
    "        b, g, r = img[y_coordinate, x_coordinate]\n",
    "        b = int(b)\n",
    "        g = int(g)\n",
    "        r = int(r)"
   ]
  },
  {
   "cell_type": "markdown",
   "id": "3acec414-7642-4b72-8889-ef3e41667da1",
   "metadata": {},
   "source": [
    "### **Detection of the left double-click from the user and call the getClickedParams function.**"
   ]
  },
  {
   "cell_type": "code",
   "execution_count": 17,
   "id": "497e8cf3-1530-406a-aa42-eb21dfca472f",
   "metadata": {},
   "outputs": [],
   "source": [
    "# create window\n",
    "cv2.namedWindow(\"Color Identification in Images\")\n",
    "\n",
    "# setMouseCallback is cv2 method that will detect the left double-click from the user and call the getClickedParams function\n",
    "cv2.setMouseCallback(\"Color Identification in Images\", getClickedParams)"
   ]
  },
  {
   "cell_type": "code",
   "execution_count": 18,
   "id": "3484873a-5253-4951-b1c7-7fd6553dab96",
   "metadata": {},
   "outputs": [],
   "source": [
    "while True:\n",
    "\n",
    "    cv2.imshow(\"Color Identification in Images\", img)\n",
    "    if clicked_flag:\n",
    "        \n",
    "        # Draw the Rectangle Filled With the Specified Color\n",
    "        cv2.rectangle(img, (20, 20), (750, 60), (b, g, r), cv2.FILLED)\n",
    "\n",
    "        # Getting the color Name along with the R, G and B Values\n",
    "        color_name = get_color_name(r, g, b) + ' R=' + str(r) + ' G=' + str(g) + ' B=' + str(b)\n",
    "\n",
    "        # cv2.putText(img,text,origin,font,fontScale,color,thickness)\n",
    "        cv2.putText(img, color_name, (50, 50), cv2.FONT_HERSHEY_SIMPLEX,\n",
    "                    0.8, (255, 255, 255), 2)\n",
    "\n",
    "        # If we have the Light color it will display the text in black\n",
    "        if r + g + b >= 600:\n",
    "            cv2.putText(img, color_name, (50, 50), cv2.FONT_HERSHEY_SIMPLEX,\n",
    "                        0.8, (0, 0, 0), 2)\n",
    "        \n",
    "        # After all the cation the Clicked Event will be set to False\n",
    "        clicked_flag = False\n",
    "\n",
    "    # Break the loop when user hits 'q' key\n",
    "    if cv2.waitKey(20) & 0xFF == ord(\"q\"):\n",
    "        break\n",
    "\n",
    "cv2.destroyAllWindows()"
   ]
  },
  {
   "cell_type": "code",
   "execution_count": null,
   "id": "477b747e",
   "metadata": {},
   "outputs": [],
   "source": []
  }
 ],
 "metadata": {
  "kernelspec": {
   "display_name": "Python 3 (ipykernel)",
   "language": "python",
   "name": "python3"
  },
  "language_info": {
   "codemirror_mode": {
    "name": "ipython",
    "version": 3
   },
   "file_extension": ".py",
   "mimetype": "text/x-python",
   "name": "python",
   "nbconvert_exporter": "python",
   "pygments_lexer": "ipython3",
   "version": "3.9.7"
  }
 },
 "nbformat": 4,
 "nbformat_minor": 5
}
